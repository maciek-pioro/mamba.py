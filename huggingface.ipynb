{
 "cells": [
  {
   "cell_type": "code",
   "execution_count": 1,
   "metadata": {},
   "outputs": [],
   "source": [
    "import sys\n",
    "\n",
    "sys.path.append(\"/home/ubuntu/mpioro/mamba-py/mamba.py\")"
   ]
  },
  {
   "cell_type": "code",
   "execution_count": 2,
   "metadata": {},
   "outputs": [],
   "source": [
    "from mamba import Mamba, MambaConfig"
   ]
  },
  {
   "cell_type": "code",
   "execution_count": 3,
   "metadata": {},
   "outputs": [
    {
     "name": "stdout",
     "output_type": "stream",
     "text": [
      "{'architectures': ['MambaForCausalLM'], 'bos_token_id': 0, 'conv_kernel': 4, 'eos_token_id': 0, 'expand': 2, 'fused_add_norm': True, 'hidden_act': 'silu', 'hidden_size': 4096, 'initializer_range': 0.1, 'intermediate_size': 8192, 'layer_norm_epsilon': 1e-05, 'model_type': 'mamba', 'n_layer': 64, 'num_hidden_layers': 64, 'pad_token_id': 0, 'pad_vocab_size_multiple': 8, 'rescale_prenorm_residual': False, 'residual_in_fp32': True, 'rms_norm': True, 'state_size': 16, 'time_step_floor': 0.0001, 'time_step_init_scheme': 'random', 'time_step_max': 0.1, 'time_step_min': 0.001, 'time_step_rank': 256, 'time_step_scale': 1.0, 'torch_dtype': 'float32', 'transformers_version': '4.39.0.dev0', 'use_bias': False, 'use_cache': True, 'use_conv_bias': True, 'vocab_size': 50432}\n",
      "/home/ubuntu/.cache/huggingface/hub/models--TRI-ML--mamba-7b-rw/snapshots/05811933fcaafc9a57fa649506181ad150b30c9c/model.safetensors\n"
     ]
    },
    {
     "name": "stderr",
     "output_type": "stream",
     "text": [
      "Special tokens have been added in the vocabulary, make sure the associated word embeddings are fine-tuned or trained.\n"
     ]
    },
    {
     "data": {
      "text/plain": [
       "'Mamba is a type of venomous snake found in certain areas of Africa. However, it’s the kind you do not want to end up having close encounters with. As for why Mamba refers to the deadly snake, it got the name when you see it. The'"
      ]
     },
     "execution_count": 3,
     "metadata": {},
     "output_type": "execute_result"
    }
   ],
   "source": [
    "from mamba_lm import from_pretrained\n",
    "from transformers import AutoTokenizer\n",
    "\n",
    "model = from_pretrained(\"TRI-ML/mamba-7b-rw\").to(\"cuda\")\n",
    "tokenizer = AutoTokenizer.from_pretrained(\"EleutherAI/gpt-neox-20b\")\n",
    "\n",
    "output = model.generate(tokenizer, \"Mamba is a type of\")\n",
    "output"
   ]
  },
  {
   "cell_type": "code",
   "execution_count": null,
   "metadata": {},
   "outputs": [
    {
     "data": {
      "application/vnd.jupyter.widget-view+json": {
       "model_id": "9a98fedb73e74b84a38af5119989928e",
       "version_major": 2,
       "version_minor": 0
      },
      "text/plain": [
       "model.safetensors:   0%|          | 0.00/517M [00:00<?, ?B/s]"
      ]
     },
     "metadata": {},
     "output_type": "display_data"
    },
    {
     "data": {
      "application/vnd.jupyter.widget-view+json": {
       "model_id": "45d2e392d7c3413b817ae5a974fed15f",
       "version_major": 2,
       "version_minor": 0
      },
      "text/plain": [
       "generation_config.json:   0%|          | 0.00/137 [00:00<?, ?B/s]"
      ]
     },
     "metadata": {},
     "output_type": "display_data"
    }
   ],
   "source": [
    "from transformers import AutoModelForCausalLM\n",
    "\n",
    "model = AutoModelForCausalLM.from_pretrained(\"state-spaces/mamba-130m-hf\").to(\"cuda\")"
   ]
  },
  {
   "cell_type": "code",
   "execution_count": 7,
   "metadata": {},
   "outputs": [
    {
     "data": {
      "text/plain": [
       "('pytorch_model.bin', 'config.json')"
      ]
     },
     "execution_count": 7,
     "metadata": {},
     "output_type": "execute_result"
    }
   ],
   "source": [
    "\n",
    "from transformers.utils import WEIGHTS_NAME, CONFIG_NAME\n",
    "\n",
    "WEIGHTS_NAME, CONFIG_NAME"
   ]
  },
  {
   "cell_type": "code",
   "execution_count": null,
   "metadata": {},
   "outputs": [],
   "source": [
    "mo"
   ]
  }
 ],
 "metadata": {
  "kernelspec": {
   "display_name": "Python 3",
   "language": "python",
   "name": "python3"
  },
  "language_info": {
   "codemirror_mode": {
    "name": "ipython",
    "version": 3
   },
   "file_extension": ".py",
   "mimetype": "text/x-python",
   "name": "python",
   "nbconvert_exporter": "python",
   "pygments_lexer": "ipython3",
   "version": "3.10.14"
  }
 },
 "nbformat": 4,
 "nbformat_minor": 2
}
